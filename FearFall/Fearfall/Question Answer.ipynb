{
 "cells": [
  {
   "cell_type": "markdown",
   "id": "9730388a",
   "metadata": {},
   "source": [
    "!pip install -U spacy"
   ]
  },
  {
   "cell_type": "markdown",
   "id": "99c3b62e",
   "metadata": {},
   "source": [
    "### Q/A"
   ]
  },
  {
   "cell_type": "code",
   "execution_count": 2,
   "id": "03dd5ca5",
   "metadata": {},
   "outputs": [
    {
     "name": "stdout",
     "output_type": "stream",
     "text": [
      "Q: What is John?\n",
      "A: to play\n",
      "\n",
      "Q: What is Mary?\n",
      "A: reading books\n",
      "\n",
      "Q: What is James?\n",
      "A: a talented\n",
      "\n"
     ]
    }
   ],
   "source": [
    "import re\n",
    "\n",
    "def extract_question_answer(text, num_questions=10):\n",
    "    # Split the text into sentences\n",
    "    sentences = re.split(r'(?<!\\w\\.\\w.)(?<![A-Z][a-z]\\.)(?<=\\.|\\?)\\s', text)\n",
    "\n",
    "    # Initialize lists for questions and answers\n",
    "    questions = []\n",
    "    answers = []\n",
    "\n",
    "    # Iterate over each sentence\n",
    "    for sentence in sentences:\n",
    "        # Find the subject and object in the sentence\n",
    "        subject_match = re.search(r'([A-Z][a-z]+) (?:\\w+ ){0,2}(likes|enjoys|studies|plays|is)', sentence)\n",
    "        object_match = re.search(r'(?:likes|enjoys|studies|plays|is) (\\w+ \\w+)', sentence)\n",
    "\n",
    "        if subject_match and object_match:\n",
    "            subject = subject_match.group(1)\n",
    "            object_ = object_match.group(1)\n",
    "\n",
    "            # Generate questions and answers\n",
    "            question = f\"What is {subject}?\"\n",
    "            answer = object_\n",
    "            questions.append(question)\n",
    "            answers.append(answer)\n",
    "\n",
    "        if len(questions) >= num_questions:\n",
    "            break\n",
    "\n",
    "    return questions, answers\n",
    "\n",
    "\n",
    "# Example usage\n",
    "input_text = \"John likes to play football. Mary enjoys reading books. James is a talented musician. Sarah studies mathematics.\"\n",
    "questions, answers = extract_question_answer(input_text, num_questions=10)\n",
    "\n",
    "# Print the questions and answers\n",
    "for i in range(len(questions)):\n",
    "    print(f\"Q: {questions[i]}\")\n",
    "    print(f\"A: {answers[i]}\")\n",
    "    print()\n",
    "\n"
   ]
  },
  {
   "cell_type": "code",
   "execution_count": null,
   "id": "8e4f21fb",
   "metadata": {},
   "outputs": [],
   "source": []
  }
 ],
 "metadata": {
  "kernelspec": {
   "display_name": "Python 3 (ipykernel)",
   "language": "python",
   "name": "python3"
  },
  "language_info": {
   "codemirror_mode": {
    "name": "ipython",
    "version": 3
   },
   "file_extension": ".py",
   "mimetype": "text/x-python",
   "name": "python",
   "nbconvert_exporter": "python",
   "pygments_lexer": "ipython3",
   "version": "3.9.12"
  }
 },
 "nbformat": 4,
 "nbformat_minor": 5
}

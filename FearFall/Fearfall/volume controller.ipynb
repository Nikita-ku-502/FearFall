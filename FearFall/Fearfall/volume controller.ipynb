{
 "cells": [
  {
   "cell_type": "code",
   "execution_count": null,
   "id": "9677d1dc",
   "metadata": {},
   "outputs": [],
   "source": [
    "import cv2\n",
    "import mediapipe as mp\n",
    "import time\n",
    "import numpy as np"
   ]
  },
  {
   "cell_type": "code",
   "execution_count": null,
   "id": "fdaa0fde",
   "metadata": {},
   "outputs": [],
   "source": [
    "wCam,hCam=640,480\n",
    "\n",
    "\n",
    "cap=cv2.VideoCapture(1)\n",
    "cap.set(3,wCam)\n",
    "cap.set(4,hCam)\n",
    "while True:\n",
    "    success, img=cap.read()\n",
    "    cv2.imshow(\"Img\",img)\n",
    "    cv2.waitKey(1)"
   ]
  },
  {
   "cell_type": "code",
   "execution_count": null,
   "id": "bf60e47a",
   "metadata": {},
   "outputs": [],
   "source": [
    "import cv2\n",
    "import mediapipe as mp\n",
    "import time\n",
    "import numpy as np\n",
    "from math import hypot\n",
    "from ctypes import cast, POINTER\n",
    "from comtypes import CLSCTX_ALL\n",
    "from pycaw.pycaw import AudioUtilities, IAudioEndpointVolume\n",
    "\n",
    "\n",
    "# Check for availability of camera\n",
    "cap=cv2.VideoCapture(0)\n",
    "\n",
    "# Detect Fingers\n",
    "mpHands=mp.solutions.hands\n",
    "hands=mpHands.Hands()\n",
    "\n",
    "mpDraw=mp.solution.drawil_utils\n",
    "\n",
    "devices=AudioUtilities.GetSpeakers()\n",
    "interface=devices.Activate(IAudioEndpointVolume._iid_,CLSCTX_ALL,None)\n",
    "volume=cast(interface,POINTER(IAudioEndpointVolume))\n",
    "\n",
    "volbar=400\n",
    "volper=0\n",
    "volMin,volMax=volume.GetVolumeRange()[:2]\n",
    "\n",
    "while True:\n",
    "    success,img=cap.read()\n",
    "    imgRGB=cv2.cvtColor(img,cv2.COLOR_BGR2RGB)\n",
    "    results=hands.process(imgRGB)\n",
    "\n",
    "lmList=[]\n",
    "if results.multi_hand_landmarks:\n",
    "    for handlandmark in results.nulti_hand_landmarks:\n",
    "        for id,lm in enumerate(handlandmark.landmark):\n",
    "            h,w,_=int(img.shape)\n",
    "            cx,cy=int(lm.x*w),int(lm.y*h)\n",
    "            lmList.append(img,handlandmark,mphands.HAND_CONNECTIONS)\n",
    "\n",
    "if lmList!=[]:\n",
    "    x1,y1=lmList[4][1],lmList[4][2]\n",
    "    x2,y2=lmList[8][1],lmList[8][2]\n",
    "\n",
    "cv2.circle(img,(x1,y1),13,(255,0,0),cv2.FILLED)\n",
    "cv2.circle(img,(x2,y2),13,(255,0,0),cv2.FILLED)\n",
    "cv2.line(img,(x1,y1),(x2,y2),(255,0,0),3)\n",
    "length=hypot(x2-x1,y2-y1)\n",
    "\n",
    "vol=np.interp(length,[30,350],[volMin,volMax])\n",
    "volbar=np.interp(length,[30,350],[400,150])\n",
    "volper=np.interp(length,[30,350],[0,100])\n",
    "print(vol,int(length))\n",
    "\n",
    "volume.SetMasterVolumeLevel(vol,None)\n",
    "cv2.rectangle(img,(50,150),(85,400),(0,0,255),4)\n",
    "cv2.rectangle(img,(50,int(volbar)),(85,400),(0,0,255),cv2.FILLED)\n",
    "cv2.putText(img,f\"{int(volper)}\",(10,40),cv2.FONT_ITALIC,1,(0,255,98),3)\n",
    "\n",
    "cv2.imshow('Image',img)\n"
   ]
  },
  {
   "cell_type": "code",
   "execution_count": null,
   "id": "1ba23a13",
   "metadata": {},
   "outputs": [],
   "source": []
  }
 ],
 "metadata": {
  "kernelspec": {
   "display_name": "Python 3 (ipykernel)",
   "language": "python",
   "name": "python3"
  },
  "language_info": {
   "codemirror_mode": {
    "name": "ipython",
    "version": 3
   },
   "file_extension": ".py",
   "mimetype": "text/x-python",
   "name": "python",
   "nbconvert_exporter": "python",
   "pygments_lexer": "ipython3",
   "version": "3.9.12"
  }
 },
 "nbformat": 4,
 "nbformat_minor": 5
}
